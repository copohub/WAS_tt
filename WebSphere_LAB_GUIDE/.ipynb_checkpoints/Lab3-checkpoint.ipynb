{
 "cells": [
  {
   "cell_type": "code",
   "execution_count": null,
   "metadata": {},
   "outputs": [],
   "source": [
    "Laboratorio #3\n"
   ]
  },
  {
   "cell_type": "markdown",
   "metadata": {},
   "source": [
    "Duracion 30 minutos\n",
    "\n",
    "\n",
    "Habilidades Aprendidas           : Al finalizar de este ejercicio tu seras capaz de:\n",
    "\n",
    "\n",
    "•\tCrear  WebSphere Application Server Profiles.\n"
   ]
  },
  {
   "cell_type": "markdown",
   "metadata": {},
   "source": [
    "Descripcion General                 :  \n",
    "\n",
    "Una vez instalados todos los paquetes de software requeridos, es necesario crear los perfiles que serán utilizados, para realizar esta acción se utilizará el comando de WebSphere “ManageProfiles”.\n",
    "En esta sección se explicará el proceso de creación perfiles para Deployment Manager y Servidores de Aplicación.\n",
    "\n",
    "\n",
    "Configuracion de Parametros  :Define los siguientes parametros y valores que necesitaras para realizar el laboratorio.\n",
    "\n",
    "192.168.1.X\toi\t0p3n5t4ck"
   ]
  },
  {
   "cell_type": "markdown",
   "metadata": {},
   "source": [
    "# 1\tCopia la media  contenida en  SERVERMEDIA\n",
    "\n",
    " 1.1\tscp manageprofilesInteractive.zip\n",
    "\n",
    "oi@DireccionIP:/tmp\n",
    "# 2\tLogeate dentro de DireccionIP\n",
    "\n",
    "2.1\tssh redhat0X@DireccionIP\n",
    "\n",
    "# 3\tDescomprimir manageprofilesInteractive.zip\n",
    "\n",
    "3.1\tunzip manageprofilesInteractive.zip  ${WAS_INSTALL}/bin\n",
    "\n",
    "# 4 Dirigirse a was path \n",
    "\n",
    "4.1\tcd ${WAS_INSTALL}/bin \n",
    "\n",
    "# 5\tAsignar los siguintes permisos\n",
    "\n",
    "chmod  755 run_manageprofilesInteractive.sh"
   ]
  },
  {
   "cell_type": "code",
   "execution_count": null,
   "metadata": {},
   "outputs": [],
   "source": [
    "cd /opt/IBM/WebSphere/AppServer/bin"
   ]
  },
  {
   "cell_type": "code",
   "execution_count": null,
   "metadata": {},
   "outputs": [],
   "source": [
    "chmod 755 run_manageprofilesInteractive.sh"
   ]
  },
  {
   "cell_type": "markdown",
   "metadata": {},
   "source": [
    "# 6\tEjecutar el archivo en los binarios de ${WAS_INSTALL}  y elegir opcion 1\n",
    "./run_manageprofilesInteractive.sh\n",
    "\n",
    "manageprofilesInteractive-v70 V0.6.6 ~ 2011.05.10/Linux\n",
    "\n",
    "-----------------------------\n",
    "MANAGEPROFILES - Command Menu\n",
    "-----------------------------\n",
    "1  create\n",
    "2  augment\n",
    "3  delete\n",
    "4  unaugment\n",
    "5  unaugmentAll\n",
    "6  deleteAll\n",
    "7  listProfiles\n",
    "8  listAugments\n",
    "9  backupProfile\n",
    "10 restoreProfile\n",
    "11 getName\n",
    "12 getPath\n",
    "13 validateRegistry\n",
    "14 validateAndUpdateRegistry\n",
    "15 getDefaultName\n",
    "16 setDefaultName\n",
    "17 response\n",
    "18 help"
   ]
  },
  {
   "cell_type": "code",
   "execution_count": null,
   "metadata": {},
   "outputs": [],
   "source": [
    "./run_manageprofilesInteractive.sh"
   ]
  },
  {
   "cell_type": "markdown",
   "metadata": {},
   "source": [
    "# 7\tCreacion Deployment Manager, opcion 3\n",
    "  1  Cell profiles (cell/dmgr & cell/default)\n",
    "  2  Custom profile (managed)\n",
    "  3  Deployment Manager profile (dmgr)\n",
    "  4  Management profile for a Deployment Manager, Administrative Agent or Job Manager server (management)\n",
    "  5  Application server profile (default)\n",
    "  6  Secure proxy profile (secureproxy)\n",
    "  7  Other...\n",
    "  8  Cancel (do nothing)\n",
    "Select templatePath:"
   ]
  },
  {
   "cell_type": "markdown",
   "metadata": {},
   "source": [
    "# 8\tDefinir el profile name, hostname y el path profile\n",
    "Default: (Dmgr01)\n",
    "Enter the ProfileName\n",
    "[Press \"enter\" to take default]: MiDmgr01"
   ]
  },
  {
   "cell_type": "markdown",
   "metadata": {},
   "source": [
    "Default: (pythonista)\n",
    "Enter the Hostname\n",
    "[Press \"enter\" to take default]: pythonista"
   ]
  },
  {
   "cell_type": "markdown",
   "metadata": {},
   "source": [
    "Default: (/opt/IBM/WebSphere/AppServer/profiles/MiDmgr01)\n",
    "Enter the profilePath\n",
    "[Press \"enter\" to take default]: /opt/IBM/WebSphere/AppServer/profiles/MiDmgr01"
   ]
  },
  {
   "cell_type": "markdown",
   "metadata": {},
   "source": [
    "# 9\tLos siguientes  parametro son opcionales; presiona 'c' para continuar."
   ]
  },
  {
   "cell_type": "markdown",
   "metadata": {},
   "source": [
    "-----------------------------\n",
    " Required parameters summary\n",
    "-----------------------------\n",
    " * profileName=MiDmgr01\n",
    " * profilePath=/opt/IBM/WebSphere/AppServer/profiles/MiDmgr01\n",
    " * templatePath=/opt/IBM/WebSphere/AppServer/profileTemplates/dmgr\n",
    " * hostName=pythonista\n",
    "Press \"enter\" to continue [\"r\" to reset, \"q\" to quit]:"
   ]
  },
  {
   "cell_type": "markdown",
   "metadata": {},
   "source": [
    "----------------\n",
    "Optional: (following parameters are NOT required)\n",
    "----------------\n",
    "1  nodeName                         14 importSigningCertKSAlias\n",
    "2  cellName                         15 isDefault\n",
    "3  enableAdminSecurity              16 keyStorePassword\n",
    "4  adminUserName                    17 personalCertDN\n",
    "5  adminPassword                    18 personalCertValidityPeriod\n",
    "6  debug                            19 signingCertDN\n",
    "7  importPersonalCertKS             20 signingCertValidityPeriod\n",
    "8  importPersonalCertKSType         21 startingPort\n",
    "9  importPersonalCertKSPassword     22 portsFile\n",
    "10 importPersonalCertKSAlias        23 defaultPorts\n",
    "11 importSigningCertKS              24 validatePorts\n",
    "12 importSigningCertKSType          25 enableService\n",
    "13 importSigningCertKSPassword      26 serviceUserName\n",
    "Enter number to select or change[press \"q\" to quit,\"c\" to continue]:"
   ]
  },
  {
   "cell_type": "markdown",
   "metadata": {},
   "source": [
    "# 10\tPara asegurarnos que el Dmgr se creo exitosamente, podemos listar los profiles:"
   ]
  },
  {
   "cell_type": "markdown",
   "metadata": {},
   "source": [
    "Ejecutando ./manageprofiles.sh -listProfiles\n",
    "\n",
    "(pythonista) ./manageprofiles.sh -listProfiles\n",
    "[dmgr01, dmgr02]\n",
    "(pythonista)"
   ]
  },
  {
   "cell_type": "code",
   "execution_count": null,
   "metadata": {},
   "outputs": [],
   "source": [
    "./manageprofiles.sh -listProfiles"
   ]
  },
  {
   "cell_type": "markdown",
   "metadata": {},
   "source": [
    "# 11\tDespues de asegurarnos que el Dmgr01 existe, debemos revisar el file serverindex.xml y confirmar el sea el mismo hostname de la maquina en la que se esta trabajando."
   ]
  },
  {
   "cell_type": "markdown",
   "metadata": {},
   "source": [
    "more $WAS_INSTALL}/profiles/Dmgr01/config/cells/nullCell01/nodes/nullCellManager01"
   ]
  },
  {
   "cell_type": "markdown",
   "metadata": {},
   "source": [
    "# 12\tEn caso de que el hostname sea diferente, debemos cambiarselo. Ejecutando lo siguiente:"
   ]
  },
  {
   "cell_type": "code",
   "execution_count": null,
   "metadata": {},
   "outputs": [],
   "source": [
    ":%s/null/pythonista/g"
   ]
  },
  {
   "cell_type": "markdown",
   "metadata": {},
   "source": [
    "# 13 Inicializar el DMGR"
   ]
  },
  {
   "cell_type": "code",
   "execution_count": null,
   "metadata": {},
   "outputs": [],
   "source": [
    "pwd\n",
    "./startManager-sh -profileName miDmgr01"
   ]
  },
  {
   "cell_type": "markdown",
   "metadata": {},
   "source": [
    "# Validamos que podamos acceder a la consola\n"
   ]
  },
  {
   "cell_type": "markdown",
   "metadata": {},
   "source": [
    "http://miip:9060/ibm/console"
   ]
  },
  {
   "cell_type": "code",
   "execution_count": null,
   "metadata": {},
   "outputs": [],
   "source": []
  },
  {
   "cell_type": "code",
   "execution_count": null,
   "metadata": {},
   "outputs": [],
   "source": []
  },
  {
   "cell_type": "code",
   "execution_count": null,
   "metadata": {},
   "outputs": [],
   "source": []
  },
  {
   "cell_type": "code",
   "execution_count": null,
   "metadata": {},
   "outputs": [],
   "source": []
  }
 ],
 "metadata": {
  "kernelspec": {
   "display_name": "Python 3",
   "language": "python",
   "name": "python3"
  },
  "language_info": {
   "codemirror_mode": {
    "name": "ipython",
    "version": 3
   },
   "file_extension": ".py",
   "mimetype": "text/x-python",
   "name": "python",
   "nbconvert_exporter": "python",
   "pygments_lexer": "ipython3",
   "version": "3.6.6"
  }
 },
 "nbformat": 4,
 "nbformat_minor": 2
}
