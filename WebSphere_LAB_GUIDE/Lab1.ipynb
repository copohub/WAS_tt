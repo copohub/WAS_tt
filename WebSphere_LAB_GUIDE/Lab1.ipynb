{
 "cells": [
  {
   "cell_type": "markdown",
   "metadata": {},
   "source": [
    "# Laboratorio #1\n",
    "\n",
    "Duracion 30 minutos\n",
    "\n",
    "\n",
    "    Habilidades Aprendidas           : Al finalizar de este ejercicio tu seras capaz de:\n",
    "\n",
    "\n",
    "    •\tInstalar  IBM Installation Manager .\n",
    "\n",
    "\n",
    "    Descripcion General                 :  En este laboratorio seras capaz de realizar la instalación de  IBM Installation Manager en tu ambiente , dicho software es requerido  para la instalación de IBM WebSphere Application Server.\n",
    "\n",
    "\n",
    "    Configuracion de Parametros  :Define los siguientes parametros y valores que necesitaras para realizar el laboratorio.\n",
    "\n",
    "                DireccionIP\tUser\tPassword\n",
    "                192.168.1.X\toi\t    0p3n5t4ck\n",
    "\n"
   ]
  },
  {
   "cell_type": "markdown",
   "metadata": {},
   "source": [
    "# 1\tCopia la media  contenida en  SERVERMEDIA\n",
    "1.1\tscp -P 8822 WAS_ND_V9.0_MP_ML.zip agent.installer.linux.gtk.x86_64_1.9.1002.20200325_1842.zip ibm-java-sdk-8.0-6.6-linux-x64-installmgr.zip  oi@DireccionIP:/tmp\n",
    "# 2\tLogeate dentro de DireccionIP\n",
    "2.1\tssh oi@DireccionIP   //No Necesario en el lab\n"
   ]
  },
  {
   "cell_type": "markdown",
   "metadata": {},
   "source": [
    "# 3\tCrear carpeta en la siguiente ruta\n",
    "3.1\tmkdir /tmp/IM"
   ]
  },
  {
   "cell_type": "code",
   "execution_count": null,
   "metadata": {},
   "outputs": [],
   "source": [
    "mkdir /tmp/IM"
   ]
  },
  {
   "cell_type": "markdown",
   "metadata": {},
   "source": [
    "# 4\tDescomprimir el paquete .zip\n",
    "4.1\tunzip agent.installer.linux.gtk.x86_64_1.8.6000.20161118_1611.zip -d  /tmp/IM\n"
   ]
  },
  {
   "cell_type": "code",
   "execution_count": null,
   "metadata": {},
   "outputs": [],
   "source": [
    "cd /tmp\n",
    "unzip agent.installer.linux.gtk.x86_64_1.9.1002.20200325_1842.zip -d  /tmp/IM"
   ]
  },
  {
   "cell_type": "markdown",
   "metadata": {},
   "source": [
    " # INSTALACIÓN MODO LINEA DE COMANDO"
   ]
  },
  {
   "cell_type": "markdown",
   "metadata": {},
   "source": [
    "5\tIr al directorio de desempaquetado\n",
    "5.1\tcd <DIRMEDIA>\n",
    "6\tListar los archivos ahi contenidos\n",
    "6.1\tls -ltrt \n",
    "7\tEditar el siguiente archivo ubicado dentro de la carpeta antes descomprimida\n",
    "7.1\tvi install.xml"
   ]
  },
  {
   "cell_type": "code",
   "execution_count": null,
   "metadata": {},
   "outputs": [],
   "source": [
    "cd /tmp/IM/\n",
    "\n",
    "ls -ltrt\n",
    "\n",
    "#vi install.xml"
   ]
  },
  {
   "cell_type": "markdown",
   "metadata": {},
   "source": [
    "# 8\tDentro del archivo, agregar la siguiente  linea despues de la etiqueta:\n"
   ]
  },
  {
   "cell_type": "code",
   "execution_count": null,
   "metadata": {},
   "outputs": [],
   "source": [
    "    <agent-input clean='true' temporary='true'> \n",
    "    y antes de  \n",
    "     <server>\n",
    "8.1\t<profile kind='self' installLocation='/opt/IBM/IM' id='IBM Installation Manager'>  </profile>"
   ]
  },
  {
   "cell_type": "markdown",
   "metadata": {},
   "source": [
    "# 9\tValidar que la ejecucion anterior se vea similar a la siguiente img.\n"
   ]
  },
  {
   "cell_type": "markdown",
   "metadata": {},
   "source": [
    "Validar el usuario y owner con el que estamos logeados\n",
    "Ejecutamos el comando  id y mostrara algo similar a \n",
    "$ id\n",
    "uid=1000(oi) gid=1000(oi) groups=1000(oi),10(wheel) context=system_u:system_r:initrc_t:s0"
   ]
  },
  {
   "cell_type": "code",
   "execution_count": null,
   "metadata": {},
   "outputs": [],
   "source": [
    "id"
   ]
  },
  {
   "cell_type": "markdown",
   "metadata": {},
   "source": [
    "# 11\tCrear y colocar como owner y grupo con el usuario que estamos logeados\n",
    "11.1\t\n",
    "        sudo mkdir -p /opt/IBM/IM \n",
    "        * Deberan introducir password del usuario usado"
   ]
  },
  {
   "cell_type": "code",
   "execution_count": null,
   "metadata": {},
   "outputs": [],
   "source": [
    "sudo mkdir -p /opt/IBM/IM "
   ]
  },
  {
   "cell_type": "markdown",
   "metadata": {},
   "source": [
    "# 12\tColocar owner y grupo del paso 10 \n",
    "12.1\t\n",
    "        sudo chown redhat:redhat /opt/IBM/IM\n",
    "        * Deberan introducir password del usuario usado"
   ]
  },
  {
   "cell_type": "code",
   "execution_count": null,
   "metadata": {},
   "outputs": [],
   "source": [
    "sudo chown oi:oi /opt/IBM/IM"
   ]
  },
  {
   "cell_type": "markdown",
   "metadata": {},
   "source": [
    "# 13\tValidar que tenga el directorio el correcto owner y grupo\n",
    "\n",
    "13.1\tls -ld /opt/IBM/IM          Debera mostar algo similar a \n",
    "\n",
    "$ ls -ld /opt/IBM/IM\n",
    "drwxrwxr-x. 5 oi oi 54 Apr  9 15:14 /opt/IBM/IM"
   ]
  },
  {
   "cell_type": "code",
   "execution_count": null,
   "metadata": {},
   "outputs": [],
   "source": [
    "ls -ld /opt/IBM/IM"
   ]
  },
  {
   "cell_type": "markdown",
   "metadata": {},
   "source": [
    "# 14\tUna vez guardados los cambios, ejecutar el siguiente comando:\n",
    "14.1\t \n",
    "        ./userinstc -acceptLicense -sP"
   ]
  },
  {
   "cell_type": "code",
   "execution_count": null,
   "metadata": {},
   "outputs": [],
   "source": [
    "#Validar la ruta donde estamos\n",
    "pwd\n",
    "\n",
    "#validar que exista el comando que vamos a ejecutar y tengamos permisos\n",
    "ls -ltra\n"
   ]
  },
  {
   "cell_type": "code",
   "execution_count": null,
   "metadata": {},
   "outputs": [],
   "source": [
    "#Ejecutar Comando de instalacion del IM\n",
    "\n",
    "./userinstc -acceptLicense -sP\n"
   ]
  },
  {
   "cell_type": "markdown",
   "metadata": {},
   "source": [
    "# 15\tUna vez terminada la instalación validamos el directorio para ver que tenga creado el contenido.\n",
    "\n",
    "15.1\tls -ltrt /opt/ibm/IM/"
   ]
  },
  {
   "cell_type": "code",
   "execution_count": null,
   "metadata": {},
   "outputs": [],
   "source": [
    "ls -ltrt /opt/IBM/IM/"
   ]
  }
 ],
 "metadata": {
  "kernelspec": {
   "display_name": "Bash",
   "language": "bash",
   "name": "bash"
  },
  "language_info": {
   "codemirror_mode": "shell",
   "file_extension": ".sh",
   "mimetype": "text/x-sh",
   "name": "bash"
  }
 },
 "nbformat": 4,
 "nbformat_minor": 2
}
