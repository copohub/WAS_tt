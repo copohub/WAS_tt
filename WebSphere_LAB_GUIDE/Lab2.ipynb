{
 "cells": [
  {
   "cell_type": "markdown",
   "metadata": {},
   "source": [
    "# Laboratorio #2\n",
    "\n",
    "Duracion 30 minutos\n",
    "\n",
    "\n",
    "Habilidades Aprendidas           : Al finalizar de este ejercicio tu seras capaz de:\n",
    "\n",
    "\n",
    "•\tInstalar  WebSphere Application Server.\n",
    "\n",
    "\n",
    "Descripcion General                 :  En este laboratorio seras capaz de realizar la instalación de  IBM WebSphere Application Server en tu ambiente.\n",
    "\n",
    "\n",
    "Configuracion de Parametros  :Define los siguientes parametros y valores que necesitaras para realizar el laboratorio.\n",
    "\n",
    "DireccionIP\tUser\tPassword\n",
    "192.168.1.X\toi\t   0p3n5t4ck\n"
   ]
  },
  {
   "cell_type": "markdown",
   "metadata": {},
   "source": [
    "# Instrucciones \n",
    "\n",
    "Usar sintaxis de Bash Shell para ejecutar tareas desde linea de comando."
   ]
  },
  {
   "cell_type": "markdown",
   "metadata": {},
   "source": [
    "//Previamente ya hecho\n",
    "# 1\tCopia la media  contenida en  SERVERMEDIA\n",
    "1.1\tscp agent.installer.linux.gtk.x86_64_1.8.6000.20161118_1611.zip  redhat0X@DireccionIP:/tmp\n",
    "\n",
    "# 2\tLogeate dentro de DireccionIP\n",
    "2.1\tssh oi@DireccionIP"
   ]
  },
  {
   "cell_type": "markdown",
   "metadata": {},
   "source": [
    "3\tCrear carpeta en la siguiente ruta\n",
    "3.1\tmkdir /tmp/was\n",
    "3.2 mkdir /tmp/sdk"
   ]
  },
  {
   "cell_type": "code",
   "execution_count": null,
   "metadata": {},
   "outputs": [],
   "source": [
    "mkdir /tmp/was"
   ]
  },
  {
   "cell_type": "code",
   "execution_count": null,
   "metadata": {},
   "outputs": [],
   "source": [
    "mkdir /tmp/sdk"
   ]
  },
  {
   "cell_type": "markdown",
   "metadata": {},
   "source": [
    "4\tDescomprimir los  paquetes  .zip\n",
    "4.1\tunzip -d /tmp/was WAS_ND_V9.0_MP_ML.zip\n",
    "4.3 unzip -d /tmp/sdk ibm-java-sdk-8.0-6.6-linux-x64-installmgr.zip"
   ]
  },
  {
   "cell_type": "code",
   "execution_count": null,
   "metadata": {},
   "outputs": [],
   "source": [
    "unzip -d /tmp/was WAS_ND_V9.0_MP_ML.zip"
   ]
  },
  {
   "cell_type": "code",
   "execution_count": null,
   "metadata": {},
   "outputs": [],
   "source": [
    "cd /tmp\n",
    "unzip -d /tmp/sdk ibm-java-sdk-8.0-6.6-linux-x64-installmgr.zip"
   ]
  },
  {
   "cell_type": "markdown",
   "metadata": {},
   "source": [
    "1\tUbicarnos en la siguiente ruta\n",
    "1.1\tcd ${DIRIM}/eclipse/tools o cd /opt/IBM/IM/eclipse/tools"
   ]
  },
  {
   "cell_type": "code",
   "execution_count": null,
   "metadata": {},
   "outputs": [],
   "source": [
    "cd /opt/IBM/IM/eclipse/tools"
   ]
  },
  {
   "cell_type": "markdown",
   "metadata": {},
   "source": [
    "2\tValidar el paquete a instalar\n",
    "\n",
    "2.1\t./imcl listAvailablePackages -repositories /tmp/was,/tmp/sdk\n",
    "\n",
    "arrojará una salida con los paquetes disponibles a instalar\n",
    "por ejemplo:\n",
    "\n",
    "com.ibm.websphere.ND.v90_9.0.0.xxxx\n",
    "com.ibm.java.jdk.v8_xxx"
   ]
  },
  {
   "cell_type": "code",
   "execution_count": null,
   "metadata": {},
   "outputs": [],
   "source": [
    "./imcl listAvailablePackages -repositories /tmp/was,/tmp/sdk"
   ]
  },
  {
   "attachments": {},
   "cell_type": "markdown",
   "metadata": {},
   "source": [
    "# 3\tYa que se valido el paquete, ejecutamos lo siguiente para comenzar la instalacion"
   ]
  },
  {
   "attachments": {},
   "cell_type": "markdown",
   "metadata": {},
   "source": [
    "./imcl install paquete(s) a instalar -repositories (los repositorios de nuestra media) -installationDirectory (ruta de Instalacion) -acceptLicense (Aceptar la licencia) -sP (mostrar Prgogreso) -sharedResourcesDirectory (directorio de recursos compartidos) -accessRights nonAdmin (indica que la instalacion es por un usuario no root)\n",
    "\n",
    "De modo que instalariamos de la siguiente manera"
   ]
  },
  {
   "cell_type": "code",
   "execution_count": null,
   "metadata": {},
   "outputs": [],
   "source": [
    "./imcl install com.ibm.websphere.ND.v90_9.0.0.20160526_1854 com.ibm.java.jdk.v8_8.0.6006.20200308_1108 -repositories /tmp/was,/tmp/sdk -sharedResourcesDirectory /opt/IBM/IMShared -acceptLicense -accessRights nonAdmin -installationDirectory /opt/IBM/WebSphere/AppServer -sP\n"
   ]
  },
  {
   "attachments": {},
   "cell_type": "markdown",
   "metadata": {},
   "source": [
    "# 4\tYa realizada la instalacion, verificamos la version. Ubacandonos en:"
   ]
  },
  {
   "cell_type": "markdown",
   "metadata": {},
   "source": [
    "cd ${DIRMEDIAWAS}/bin/\n",
    "donde DIRMEDIAWAS es el directorio que nos entrega al final de la instalación"
   ]
  },
  {
   "cell_type": "code",
   "execution_count": null,
   "metadata": {},
   "outputs": [],
   "source": [
    "cd /opt/IBM/WebSphere/AppServer/bin"
   ]
  },
  {
   "cell_type": "code",
   "execution_count": null,
   "metadata": {},
   "outputs": [],
   "source": [
    "./versionInfo.sh"
   ]
  }
 ],
 "metadata": {
  "kernelspec": {
   "display_name": "Bash",
   "language": "bash",
   "name": "bash"
  },
  "language_info": {
   "codemirror_mode": "shell",
   "file_extension": ".sh",
   "mimetype": "text/x-sh",
   "name": "bash"
  }
 },
 "nbformat": 4,
 "nbformat_minor": 2
}
